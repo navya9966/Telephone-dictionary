{
 "cells": [
  {
   "cell_type": "code",
   "execution_count": 5,
   "id": "8cfddec4-ce1c-4641-a53e-0bb300a8a1be",
   "metadata": {},
   "outputs": [],
   "source": [
    "d={\"Navya\":9966573533,\"Sai\":630548565,\"Neha\":84455114552}\n",
    "def add(d):\n",
    "    n=(input(\"enter The Name : \"))\n",
    "    p=int(input(\"Enter the phone number : \"))\n",
    "    d[n]=p\n",
    "    return d\n",
    "def display(d):\n",
    "    f=input(\"Enter the name : \")\n",
    "    if f in d:\n",
    "        print(d[f])\n",
    "    else:\n",
    "        print(\"The value which you are searching for is not available\")\n",
    "        add(d)\n",
    "def telephone_directory():\n",
    "    i=1\n",
    "    while i>0:\n",
    "        print(\"Please Wait options are Displaying\")\n",
    "        j=print(\" 1.Display\\n\",\"2.Add\\n\",\"3.Search\\n\",\"4.Quit\")\n",
    "        j\n",
    "        i=int(input(\"enter the option\"))\n",
    "        if i > 4:\n",
    "            print(\"Invalid ###Please enter the options from [1-4] not more than 4\")\n",
    "        elif i==1:\n",
    "            print(d)\n",
    "        elif i==2:\n",
    "            print(add(d))\n",
    "        elif i==3:\n",
    "            print(display(d))\n",
    "        elif i==4:\n",
    "            print(\"your are exiting....\")\n",
    "        break"
   ]
  },
  {
   "cell_type": "code",
   "execution_count": 6,
   "id": "305f180a-921c-47f3-bdd2-6097e6d6fb5c",
   "metadata": {},
   "outputs": [
    {
     "name": "stdout",
     "output_type": "stream",
     "text": [
      "Please Wait options are Displaying\n",
      " 1.Display\n",
      " 2.Add\n",
      " 3.Search\n",
      " 4.Quit\n"
     ]
    },
    {
     "name": "stdin",
     "output_type": "stream",
     "text": [
      "enter the option 2\n",
      "enter The Name :  Ram\n",
      "Enter the phone number :  892456155328\n"
     ]
    },
    {
     "name": "stdout",
     "output_type": "stream",
     "text": [
      "{'Navya': 9966573533, 'Sai': 630548565, 'Neha': 84455114552, 'Ram': 892456155328}\n"
     ]
    }
   ],
   "source": [
    "telephone_directory()"
   ]
  },
  {
   "cell_type": "code",
   "execution_count": null,
   "id": "9c3de410-01d9-496a-b5b8-514eaffd0648",
   "metadata": {},
   "outputs": [],
   "source": []
  }
 ],
 "metadata": {
  "kernelspec": {
   "display_name": "Python 3 (ipykernel)",
   "language": "python",
   "name": "python3"
  },
  "language_info": {
   "codemirror_mode": {
    "name": "ipython",
    "version": 3
   },
   "file_extension": ".py",
   "mimetype": "text/x-python",
   "name": "python",
   "nbconvert_exporter": "python",
   "pygments_lexer": "ipython3",
   "version": "3.11.7"
  }
 },
 "nbformat": 4,
 "nbformat_minor": 5
}
